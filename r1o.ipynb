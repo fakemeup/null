{
 "cells": [
  {
   "cell_type": "code",
   "execution_count": 10,
   "id": "38febfd2-6888-47aa-8117-4d360e93c1d2",
   "metadata": {},
   "outputs": [
    {
     "name": "stdout",
     "output_type": "stream",
     "text": [
      "Collecting pydot\n",
      "  Using cached pydot-4.0.1-py3-none-any.whl.metadata (11 kB)\n",
      "Collecting pyparsing>=3.1.0 (from pydot)\n",
      "  Downloading pyparsing-3.2.4-py3-none-any.whl.metadata (5.0 kB)\n",
      "Using cached pydot-4.0.1-py3-none-any.whl (37 kB)\n",
      "Downloading pyparsing-3.2.4-py3-none-any.whl (113 kB)\n",
      "   ---------------------------------------- 0.0/113.9 kB ? eta -:--:--\n",
      "   ---------- ----------------------------- 30.7/113.9 kB 1.4 MB/s eta 0:00:01\n",
      "   ---------------------------------------- 113.9/113.9 kB 2.2 MB/s eta 0:00:00\n",
      "Installing collected packages: pyparsing, pydot\n",
      "  Attempting uninstall: pyparsing\n",
      "    Found existing installation: pyparsing 3.0.9\n",
      "    Uninstalling pyparsing-3.0.9:\n",
      "      Successfully uninstalled pyparsing-3.0.9\n",
      "Successfully installed pydot-4.0.1 pyparsing-3.2.4\n"
     ]
    }
   ],
   "source": [
    "!pip install pydot"
   ]
  },
  {
   "cell_type": "code",
   "execution_count": 12,
   "id": "faaf691f-3a33-4a74-91b9-73aff3320259",
   "metadata": {},
   "outputs": [
    {
     "name": "stdout",
     "output_type": "stream",
     "text": [
      "Collecting graphviz\n",
      "  Downloading graphviz-0.21-py3-none-any.whl.metadata (12 kB)\n",
      "Downloading graphviz-0.21-py3-none-any.whl (47 kB)\n",
      "   ---------------------------------------- 0.0/47.3 kB ? eta -:--:--\n",
      "   ---------------------------------------- 47.3/47.3 kB 1.2 MB/s eta 0:00:00\n",
      "Installing collected packages: graphviz\n",
      "Successfully installed graphviz-0.21\n"
     ]
    }
   ],
   "source": [
    "!pip install graphviz"
   ]
  },
  {
   "cell_type": "code",
   "execution_count": 14,
   "id": "d0ca1f4f-7f14-404e-8157-1336f0585e44",
   "metadata": {},
   "outputs": [
    {
     "name": "stdout",
     "output_type": "stream",
     "text": [
      "Requirement already satisfied: pydot in c:\\users\\acer\\anaconda3\\lib\\site-packages (4.0.1)\n",
      "Requirement already satisfied: graphviz in c:\\users\\acer\\anaconda3\\lib\\site-packages (0.21)\n",
      "Requirement already satisfied: pyparsing>=3.1.0 in c:\\users\\acer\\anaconda3\\lib\\site-packages (from pydot) (3.2.4)\n"
     ]
    }
   ],
   "source": [
    "!pip install pydot graphviz"
   ]
  },
  {
   "cell_type": "code",
   "execution_count": 18,
   "id": "3509b9c9-f6b2-4839-aace-b55daf43546f",
   "metadata": {},
   "outputs": [
    {
     "name": "stdout",
     "output_type": "stream",
     "text": [
      "Path from A to E: ['A', 'B', 'E']\n"
     ]
    },
    {
     "data": {
      "image/png": "[encoded data removed]",
      "text/plain": [
       "<IPython.core.display.Image object>"
      ]
     },
     "metadata": {},
     "output_type": "display_data"
    },
    {
     "name": "stdout",
     "output_type": "stream",
     "text": [
      "Graph saved as dfs_path.png\n"
     ]
    }
   ],
   "source": [
    "import os\n",
    "import pydot\n",
    "from IPython.display import Image, display\n",
    "os.environ[\"PATH\"] += os.pathsep + r\"C:\\Program Files\\Graphviz\"\n",
    "def dfs(graph, start, goal, path=None):\n",
    "    if path is None:\n",
    "        path = []\n",
    "    path.append(start)\n",
    "    if start == goal:\n",
    "        return path.copy()\n",
    "    for neighbor in graph.get(start, []):\n",
    "        if neighbor not in path:\n",
    "            result = dfs(graph, neighbor, goal, path)\n",
    "            if result is not None:\n",
    "                return result\n",
    "    path.pop()\n",
    "    return None\n",
    "\n",
    "graph = {\n",
    "    'A': ['B', 'C'],\n",
    "    'B': ['D', 'E'],\n",
    "    'C': ['F'],\n",
    "    'D': [],\n",
    "    'E': ['F'],\n",
    "    'F': []\n",
    "}\n",
    "graph_pydot = pydot.Dot(graph_type='graph') \n",
    "\n",
    "start_node = 'A'\n",
    "goal_node = 'E'\n",
    "\n",
    "if start_node in graph and goal_node in graph:\n",
    "    path = dfs(graph, start_node, goal_node)\n",
    "\n",
    "    if path:\n",
    "        print(f\"Path from {start_node} to {goal_node}: {path}\")\n",
    "        path_edges = set()\n",
    "        for i in range(len(path) - 1):\n",
    "            path_edges.add((path[i], path[i + 1]))\n",
    "        for node in graph:\n",
    "            fillcolor = 'lightgreen' if node in path else 'lightblue'\n",
    "            graph_pydot.add_node(pydot.Node(node, style=\"filled\", fillcolor=fillcolor))\n",
    "            for neighbor in graph[node]:\n",
    "                color = 'red' if (node, neighbor) in path_edges else 'black'\n",
    "                graph_pydot.add_edge(pydot.Edge(node, neighbor, color=color))\n",
    "        image = Image(graph_pydot.create_png())\n",
    "        display(image)\n",
    "        graph_pydot.write_png(\"dfs_path.png\")\n",
    "        print(\"Graph saved as dfs_path.png\")\n",
    "\n",
    "    else:\n",
    "        print(f\"No path found from {start_node} to {goal_node}\")\n",
    "else:\n",
    "    print(\"Start or goal node not found in the graph.\")\n"
   ]
  },
  {
   "cell_type": "code",
   "execution_count": null,
   "id": "74887dd5-cb40-4db9-95d3-07fc6337c1be",
   "metadata": {},
   "outputs": [],
   "source": []
  }
 ],
 "metadata": {
  "kernelspec": {
   "display_name": "Python 3 (ipykernel)",
   "language": "python",
   "name": "python3"
  },
  "language_info": {
   "codemirror_mode": {
    "name": "ipython",
    "version": 3
   },
   "file_extension": ".py",
   "mimetype": "text/x-python",
   "name": "python",
   "nbconvert_exporter": "python",
   "pygments_lexer": "ipython3",
   "version": "3.12.4"
  }
 },
 "nbformat": 4,
 "nbformat_minor": 5
}
